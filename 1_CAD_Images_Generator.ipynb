{
 "cells": [
  {
   "cell_type": "markdown",
   "id": "1b09f150",
   "metadata": {},
   "source": [
    "# Developing an Image Classifier Using Synthetic Data from CAD Models\n",
    "### Part I of Berkeley PCMLAI - Final Capstone Project\n",
    "#### A.Morato"
   ]
  },
  {
   "cell_type": "markdown",
   "id": "1db4d95c-86a9-477a-90f7-b43c198aa25d",
   "metadata": {},
   "source": [
    "In the first part of the project, a dataset of artificial images is created. The process starts with 5 CAD models (.stp files), one for each class of magnet we want to classify. The tools used to process CAD files come from free platform called FreeCAD and PyVista, which work exclusively with .stl models. An .stl file essentially contains only the surface information of the object. The surface models are then scanned using a moving plotter provided by PyVista, which offers a high-level API for 3D visualization and data analysis.\n",
    "\n",
    "The following 5 different magnets are processed:\n",
    "\n",
    "- QD - Defocusing quadrupole magnet (Berkeley Lab code AL-1115-5731)\n",
    "- QF - Focusing quadrupole magnet (AL-1115-6143)\n",
    "- QFA - Quadrupole focusing alternating magnet (AL-1114-0240)\n",
    "- SD - Sextupole defocusing magnet (AL-1119-9432)\n",
    "- SHD - Sextupole horizontal defocusing magnet (AL-1154-3320)"
   ]
  },
  {
   "cell_type": "code",
   "execution_count": 1,
   "id": "856d75c2",
   "metadata": {},
   "outputs": [
    {
     "name": "stdout",
     "output_type": "stream",
     "text": [
      "Requirement already satisfied: pyvista in c:\\users\\amorato\\appdata\\local\\anaconda3\\lib\\site-packages (0.43.8)\n",
      "Requirement already satisfied: vtk in c:\\users\\amorato\\appdata\\local\\anaconda3\\lib\\site-packages (from pyvista) (9.3.0)\n",
      "Requirement already satisfied: pooch in c:\\users\\amorato\\appdata\\local\\anaconda3\\lib\\site-packages (from pyvista) (1.4.0)\n",
      "Requirement already satisfied: pillow in c:\\users\\amorato\\appdata\\local\\anaconda3\\lib\\site-packages (from pyvista) (9.4.0)\n",
      "Requirement already satisfied: numpy>=1.21.0 in c:\\users\\amorato\\appdata\\local\\anaconda3\\lib\\site-packages (from pyvista) (1.23.5)\n",
      "Requirement already satisfied: scooby>=0.5.1 in c:\\users\\amorato\\appdata\\local\\anaconda3\\lib\\site-packages (from pyvista) (0.10.0)\n",
      "Requirement already satisfied: matplotlib>=3.0.1 in c:\\users\\amorato\\appdata\\local\\anaconda3\\lib\\site-packages (from pyvista) (3.7.0)\n",
      "Requirement already satisfied: contourpy>=1.0.1 in c:\\users\\amorato\\appdata\\local\\anaconda3\\lib\\site-packages (from matplotlib>=3.0.1->pyvista) (1.0.5)\n",
      "Requirement already satisfied: cycler>=0.10 in c:\\users\\amorato\\appdata\\local\\anaconda3\\lib\\site-packages (from matplotlib>=3.0.1->pyvista) (0.11.0)\n",
      "Requirement already satisfied: pyparsing>=2.3.1 in c:\\users\\amorato\\appdata\\local\\anaconda3\\lib\\site-packages (from matplotlib>=3.0.1->pyvista) (3.0.9)\n",
      "Requirement already satisfied: fonttools>=4.22.0 in c:\\users\\amorato\\appdata\\local\\anaconda3\\lib\\site-packages (from matplotlib>=3.0.1->pyvista) (4.25.0)\n",
      "Requirement already satisfied: packaging>=20.0 in c:\\users\\amorato\\appdata\\local\\anaconda3\\lib\\site-packages (from matplotlib>=3.0.1->pyvista) (22.0)\n",
      "Requirement already satisfied: kiwisolver>=1.0.1 in c:\\users\\amorato\\appdata\\local\\anaconda3\\lib\\site-packages (from matplotlib>=3.0.1->pyvista) (1.4.4)\n",
      "Requirement already satisfied: python-dateutil>=2.7 in c:\\users\\amorato\\appdata\\local\\anaconda3\\lib\\site-packages (from matplotlib>=3.0.1->pyvista) (2.8.2)\n",
      "Requirement already satisfied: requests in c:\\users\\amorato\\appdata\\local\\anaconda3\\lib\\site-packages (from pooch->pyvista) (2.32.3)\n",
      "Requirement already satisfied: appdirs in c:\\users\\amorato\\appdata\\local\\anaconda3\\lib\\site-packages (from pooch->pyvista) (1.4.4)\n",
      "Requirement already satisfied: six>=1.5 in c:\\users\\amorato\\appdata\\local\\anaconda3\\lib\\site-packages (from python-dateutil>=2.7->matplotlib>=3.0.1->pyvista) (1.16.0)\n",
      "Requirement already satisfied: idna<4,>=2.5 in c:\\users\\amorato\\appdata\\local\\anaconda3\\lib\\site-packages (from requests->pooch->pyvista) (3.4)\n",
      "Requirement already satisfied: charset-normalizer<4,>=2 in c:\\users\\amorato\\appdata\\local\\anaconda3\\lib\\site-packages (from requests->pooch->pyvista) (2.0.4)\n",
      "Requirement already satisfied: urllib3<3,>=1.21.1 in c:\\users\\amorato\\appdata\\local\\anaconda3\\lib\\site-packages (from requests->pooch->pyvista) (1.26.14)\n",
      "Requirement already satisfied: certifi>=2017.4.17 in c:\\users\\amorato\\appdata\\local\\anaconda3\\lib\\site-packages (from requests->pooch->pyvista) (2024.6.2)\n"
     ]
    }
   ],
   "source": [
    "!pip install pyvista"
   ]
  },
  {
   "cell_type": "code",
   "execution_count": 14,
   "id": "96b09f3e",
   "metadata": {},
   "outputs": [],
   "source": [
    "import os\n",
    "import sys\n",
    "import glob\n",
    "import pyvista as pv"
   ]
  },
  {
   "cell_type": "code",
   "execution_count": 4,
   "id": "f1c4f83e",
   "metadata": {},
   "outputs": [],
   "source": [
    "# Adding FreeCAD bin and lib directories to the system path, to ensure that Python can access FreeCAD's executables and libraries\n",
    "\n",
    "# Path to the FreeCAD bin directory\n",
    "freecad_bin_path = r\"C:\\Program Files\\FreeCAD 0.21\\bin\"\n",
    "\n",
    "# Add FreeCAD bin path to system path\n",
    "if freecad_bin_path not in sys.path:\n",
    "    sys.path.append(freecad_bin_path)\n",
    "\n",
    "# Path to the FreeCAD lib directory (if required)\n",
    "freecad_lib_path = r\"C:\\Program Files\\FreeCAD 0.21\\lib\"\n",
    "\n",
    "# Add FreeCAD lib path to system path\n",
    "if freecad_lib_path not in sys.path:\n",
    "    sys.path.append(freecad_lib_path)"
   ]
  },
  {
   "cell_type": "code",
   "execution_count": 5,
   "id": "c7ca7ab3",
   "metadata": {},
   "outputs": [],
   "source": [
    "# FreeCAD can now be imported\n",
    "import FreeCAD"
   ]
  },
  {
   "cell_type": "markdown",
   "id": "864ec0d3",
   "metadata": {},
   "source": [
    "### 1. Generation of .stl files\n",
    "The first step is collecting the CAD models of the selected magnets (.stp files) and convert them to a format suitable for FreeCAD (.stl)"
   ]
  },
  {
   "cell_type": "code",
   "execution_count": 6,
   "id": "5322b5f3",
   "metadata": {},
   "outputs": [],
   "source": [
    "import FreeCAD as App\n",
    "import Part\n",
    "import Mesh\n",
    "from typing import List"
   ]
  },
  {
   "cell_type": "code",
   "execution_count": 11,
   "id": "b47034a0",
   "metadata": {},
   "outputs": [],
   "source": [
    "# Definition of a \"Converter\" class to handle converting STEP files to STL files, including methods for file handling and conversion.\n",
    "# The main function handles argument parsing, initializes the Converter, and starts the conversion process.\n",
    "\n",
    "class Converter(object):\n",
    "    \"\"\"A class that can convert STEP files to STL files.\n",
    "\n",
    "    Attributes:\n",
    "        file_list (List[str]): A list of file names to convert.\n",
    "        path (str): The path to the folder containing the input files.\n",
    "\n",
    "    Methods:\n",
    "        get_all_files_in_folder(path: str = './') -> List[str]:\n",
    "            Returns a list of all file names in the specified folder.\n",
    "\n",
    "        convert(output_path: str = None):\n",
    "            Converts each file in the 'file_list' from STEP format to STL format.\n",
    "\n",
    "    Usage:\n",
    "        # Example usage of the Converter class\n",
    "        file_list = ['file1.step', 'file2.STEP', 'file3.stp']\n",
    "        converter = Converter(file_list, path='./input_folder/')\n",
    "        converter.convert(output_path='./output_folder/')\n",
    "    \"\"\"\n",
    "\n",
    "    def __init__(self, file_list: List[str], path: str = './'):\n",
    "        \"\"\"Initialize the Converter object.\n",
    "\n",
    "        Args:\n",
    "            file_list (List[str]): A list of file names to convert.\n",
    "            path (str, optional): The path to the folder containing the input files.\n",
    "                Defaults to './'.\n",
    "        \"\"\"\n",
    "        super().__init__()\n",
    "        self.file_list = file_list\n",
    "        self.path = path\n",
    "\n",
    "    @classmethod\n",
    "    def get_all_files_in_folder(cls, path: str = './') -> List[str]:\n",
    "        \"\"\"Get a list of all file names in the specified folder.\n",
    "\n",
    "        Args:\n",
    "            path (str, optional): The path to the folder. Defaults to './'.\n",
    "\n",
    "        Returns:\n",
    "            List[str]: A list of all file names in the specified folder.\n",
    "        \"\"\"\n",
    "        return [os.path.basename(path) for path in glob.glob(os.path.join(path, '*.*'))]\n",
    "\n",
    "    @classmethod\n",
    "    def format_time_elapsed(cls, start_time: datetime, end_time: datetime) -> str:\n",
    "        \"\"\"Format the elapsed time between two datetime objects into a human-readable string.\n",
    "\n",
    "        Args:\n",
    "            start_time (datetime): The starting time.\n",
    "            end_time (datetime): The ending time.\n",
    "\n",
    "        Returns:\n",
    "            str: A human-readable string representing the elapsed time.\n",
    "        \"\"\"\n",
    "        elapsed_time = end_time - start_time\n",
    "        hours, remainder = divmod(elapsed_time.total_seconds(), 3600)\n",
    "        minutes, seconds = divmod(remainder, 60)\n",
    "\n",
    "        formatted_time = \"\"\n",
    "        if hours > 0:\n",
    "            formatted_time += f\"{int(hours)} hours, \"\n",
    "        if minutes > 0:\n",
    "            formatted_time += f\"{int(minutes)} minutes, \"\n",
    "        formatted_time += f\"{int(seconds)} seconds\"\n",
    "\n",
    "        return formatted_time\n",
    "\n",
    "    def convert(self, output_path: str = None):\n",
    "        \"\"\"Convert the files from STEP format to STL format.\n",
    "\n",
    "        Args:\n",
    "            output_path (str, optional): The path to the folder where the output files will be saved.\n",
    "                If not provided, the output files will be saved in the same folder as the input files.\n",
    "        \"\"\"\n",
    "        start_time = datetime.now()\n",
    "        for file in self.file_list:\n",
    "            print('\\033[34m' + 'Processing file: ' + file + '\\033[0m')\n",
    "            shape = Part.Shape()\n",
    "            shape.read(os.path.join(self.path, file))\n",
    "            doc = App.newDocument('Doc')\n",
    "            pf = doc.addObject(\"Part::Feature\", \"MyShape\")\n",
    "            pf.Shape = shape\n",
    "            output_filename = file\n",
    "            for suffix in ['.step', '.stp', '.STEP', '.STP']:\n",
    "                output_filename = output_filename.replace(suffix, '.stl')\n",
    "            if output_path is None:\n",
    "                Mesh.export([pf], os.path.join(self.path, output_filename))\n",
    "            else:\n",
    "                Mesh.export([pf], os.path.join(output_path, output_filename))\n",
    "        end_time = datetime.now()\n",
    "        print('\\033[32m' + '\\nDone!' + '\\033[0m')\n",
    "        print('\\033[32m' + 'Elapsed time: ' + Converter.format_time_elapsed(start_time, end_time) + '\\033[0m')"
   ]
  },
  {
   "cell_type": "code",
   "execution_count": 24,
   "id": "1c5beadb",
   "metadata": {},
   "outputs": [],
   "source": [
    "# List of .stp files to load\n",
    "filelist=['al-1115-5731_AQD.stp', 'al-1115-6143_AQF.stp', 'al-1114-0240_AQFA.stp', 'al-1119-9432_ASD.stp', 'al-1154-3320_ASHD.stp']"
   ]
  },
  {
   "cell_type": "code",
   "execution_count": 25,
   "id": "590441ce",
   "metadata": {},
   "outputs": [
    {
     "name": "stdout",
     "output_type": "stream",
     "text": [
      "\u001b[32mStarting conversion loop...\n",
      "\u001b[0m\n",
      "\u001b[34mProcessing file: al-1115-5731_AQD.stp\u001b[0m\n",
      "\u001b[34mProcessing file: al-1115-6143_AQF.stp\u001b[0m\n",
      "\u001b[34mProcessing file: al-1114-0240_AQFA.stp\u001b[0m\n",
      "\u001b[34mProcessing file: al-1119-9432_ASD.stp\u001b[0m\n",
      "\u001b[34mProcessing file: al-1154-3320_ASHD.stp\u001b[0m\n",
      "\u001b[32m\n",
      "Done!\u001b[0m\n",
      "\u001b[32mElapsed time: 12 minutes, 55 seconds\u001b[0m\n"
     ]
    }
   ],
   "source": [
    "# Convertion of .stp files to .stl files\n",
    "input_folder = 'data/FILES_STP'\n",
    "output_folder = 'data/FILES_STL'\n",
    "\n",
    "# Create the Converter object and convert the files\n",
    "converter = Converter(filelist, path=input_folder)\n",
    "print('\\033[32m' + 'Starting conversion loop...\\n' + '\\033[0m')\n",
    "converter.convert(output_path=output_folder)"
   ]
  },
  {
   "cell_type": "markdown",
   "id": "3d466b9f",
   "metadata": {},
   "source": [
    "### 2. Creation of a Collection of .png Pictures\n",
    "Each .stl file is loaded into PyVista to generate a mesh. A plotter is then created to navigate around the generated mesh and capture images from different angles. The rotation primarily involves moving around the object, with approximately ±40 degrees in height, and varying angles to tilt the plotter, emulating a slightly misaligned image. Parameters involving advanced features (e.g., lighting, surface material) are present but have not been considered at this stage. I also chose to process each magnet separately rather than using a common loop. The main reason for this is that the code was run on my personal computer, and this approach allowed me to split the time-consuming process into different sessions."
   ]
  },
  {
   "cell_type": "markdown",
   "id": "68cd2a8f",
   "metadata": {},
   "source": [
    "#### 2.1 AL-1115-5731 - QD"
   ]
  },
  {
   "cell_type": "code",
   "execution_count": 26,
   "id": "77393a37",
   "metadata": {},
   "outputs": [
    {
     "name": "stdout",
     "output_type": "stream",
     "text": [
      "Reading data/STL/al-1115-5731_AQD.stl...\n",
      "DONE! Starting loop...\n"
     ]
    }
   ],
   "source": [
    "# Define work folders\n",
    "INPUT_FILE = 'data/STL/al-1115-5731_AQD.stl'\n",
    "OUTPUT_DIR = 'data/CAD_pics'\n",
    "\n",
    "# Load the model\n",
    "print(f'Reading {INPUT_FILE}...')\n",
    "mesh = pv.read(INPUT_FILE)\n",
    "print(f'DONE! Starting loop...')"
   ]
  },
  {
   "cell_type": "code",
   "execution_count": 27,
   "id": "de7ac768",
   "metadata": {},
   "outputs": [],
   "source": [
    "#Check the object view\n",
    "plotter = pv.Plotter(off_screen=True)\n",
    "plotter.background_color = 'white'  # Set a white background color\n",
    "\n",
    "# Render the scene\n",
    "plotter.add_mesh(mesh, show_edges=False, specular=1)  # Set color and specular properties\n",
    "# Set the viewing angle in another plane\n",
    "plotter.camera_position = 'xy'\n",
    "plotter.camera.azimuth = 120\n",
    "    \n",
    "#plotter.show(auto_close=False)\n",
    "plotter.screenshot('test.png')\n",
    "    \n",
    "# Close the plotter\n",
    "plotter.close()"
   ]
  },
  {
   "cell_type": "code",
   "execution_count": 29,
   "id": "96ef59a9",
   "metadata": {},
   "outputs": [],
   "source": [
    "# Loop through different viewing angles and save the rendered images\n",
    "for azim_angle in range(0, 360, 15):\n",
    "    for elev_angle in range(-30, 50, 10):  \n",
    "        \n",
    "        #'Roll' to emulate not ideal alligned pictures\n",
    "        for roll_angle in range(-20, 30, 10):\n",
    "            \n",
    "            # Set up a plotter for rendering\n",
    "            plotter = pv.Plotter(off_screen=True)\n",
    "            plotter.background_color = 'white'  # Set a white background color\n",
    "\n",
    "            # Render the scene\n",
    "            #plotter.add_mesh(mesh, show_edges=False, color='gray', specular=1.0)  # Set color and specular properties\n",
    "\n",
    "            # Check if the mesh has color data\n",
    "            if 'colors' in mesh.point_data:\n",
    "                # Use the existing colors\n",
    "                plotter.add_mesh(mesh, show_edges=False, specular=1)\n",
    "            else:\n",
    "                # Apply a default color if no colors data\n",
    "                plotter.add_mesh(mesh, color='gray', show_edges=False, specular=1)\n",
    "\n",
    "            # Set the viewing angle\n",
    "            plotter.camera_position = 'xy'\n",
    "            plotter.camera.azimuth += azim_angle\n",
    "            plotter.camera.elevation += elev_angle\n",
    "            plotter.camera.roll += roll_angle\n",
    "            #print(angle)\n",
    "\n",
    "            #DISABLED OUTPUT PREVIEW\n",
    "            #plotter.show(auto_close=False)\n",
    "\n",
    "            # Save the rendered image\n",
    "            filename = f'QD_rot_a{azim_angle}_e{elev_angle}_r{roll_angle}.png'\n",
    "            output_file = os.path.join(OUTPUT_DIR, filename)\n",
    "            plotter.screenshot(output_file)\n",
    "                \n",
    "            # Close the plotter\n",
    "            plotter.close()"
   ]
  },
  {
   "cell_type": "markdown",
   "id": "7064e248",
   "metadata": {},
   "source": [
    "#### 2.2 AL-1115-6143 - QF"
   ]
  },
  {
   "cell_type": "code",
   "execution_count": null,
   "id": "c6677f60",
   "metadata": {},
   "outputs": [
    {
     "name": "stdout",
     "output_type": "stream",
     "text": [
      "Reading data/STL/al-1115-6143_AQF.stl...\n",
      "DONE! Starting loop...\n"
     ]
    }
   ],
   "source": [
    "# Define work folders\n",
    "INPUT_FILE = 'data/STL/al-1115-6143_AQF.stl'\n",
    "OUTPUT_DIR = 'data/CAD_pics'\n",
    "\n",
    "# Load the model\n",
    "print(f'Reading {INPUT_FILE}...')\n",
    "mesh = pv.read(INPUT_FILE)\n",
    "print(f'DONE! Starting loop...')"
   ]
  },
  {
   "cell_type": "code",
   "execution_count": null,
   "id": "cf1bf3da",
   "metadata": {},
   "outputs": [],
   "source": [
    "#Check the object view\n",
    "plotter = pv.Plotter(off_screen=True)\n",
    "plotter.background_color = 'white'  # Set a white background color\n",
    "\n",
    "# Render the scene\n",
    "plotter.add_mesh(mesh, show_edges=False, specular=1)  # Set color and specular properties\n",
    "# Set the viewing angle in another plane\n",
    "plotter.camera_position = 'xy'\n",
    "plotter.camera.azimuth = 120\n",
    "    \n",
    "#plotter.show(auto_close=False)\n",
    "plotter.screenshot('test.png')\n",
    "    \n",
    "# Close the plotter\n",
    "plotter.close()"
   ]
  },
  {
   "cell_type": "code",
   "execution_count": null,
   "id": "43bdfbd4",
   "metadata": {},
   "outputs": [],
   "source": [
    "# Loop through different viewing angles and save the rendered images\n",
    "for azim_angle in range(0, 360, 15):\n",
    "    for elev_angle in range(-30, 50, 10):  \n",
    "        \n",
    "        #'Roll' to emulate not ideal alligned pictures\n",
    "        for roll_angle in range(-20, 30, 10):\n",
    "            \n",
    "            # Set up a plotter for rendering\n",
    "            plotter = pv.Plotter(off_screen=True)\n",
    "            plotter.background_color = 'white'  # Set a white background color\n",
    "\n",
    "            # Render the scene\n",
    "            #plotter.add_mesh(mesh, show_edges=False, color='gray', specular=1.0)  # Set color and specular properties\n",
    "\n",
    "            # Check if the mesh has color data\n",
    "            if 'colors' in mesh.point_data:\n",
    "                # Use the existing colors\n",
    "                plotter.add_mesh(mesh, show_edges=False, specular=1)\n",
    "            else:\n",
    "                # Apply a default color if no colors data\n",
    "                plotter.add_mesh(mesh, color='gray', show_edges=False, specular=1)\n",
    "\n",
    "            # Set the viewing angle\n",
    "            plotter.camera_position = 'xy'\n",
    "            plotter.camera.azimuth += azim_angle\n",
    "            plotter.camera.elevation += elev_angle\n",
    "            plotter.camera.roll += roll_angle\n",
    "            #print(angle)\n",
    "\n",
    "            #DISABLED OUTPUT PREVIEW\n",
    "            #plotter.show(auto_close=False)\n",
    "\n",
    "            # Save the rendered image\n",
    "            filename = f'QF_rot_a{azim_angle}_e{elev_angle}_r{roll_angle}.png'\n",
    "            output_file = os.path.join(OUTPUT_DIR, filename)\n",
    "            plotter.screenshot(output_file)\n",
    "                \n",
    "            # Close the plotter\n",
    "            plotter.close()"
   ]
  },
  {
   "cell_type": "markdown",
   "id": "ce0f39e0",
   "metadata": {},
   "source": [
    "#### 2.3 AL-1114-0240 - QFA\n"
   ]
  },
  {
   "cell_type": "code",
   "execution_count": 6,
   "id": "180e9b76",
   "metadata": {},
   "outputs": [
    {
     "name": "stdout",
     "output_type": "stream",
     "text": [
      "Reading data/STL/al-1114-0240_AQFA.stl...\n",
      "DONE! Starting loop...\n"
     ]
    }
   ],
   "source": [
    "# Define work folders\n",
    "INPUT_FILE = 'data/STL/al-1114-0240_AQFA.stl'\n",
    "OUTPUT_DIR = 'data/CAD_pics'\n",
    "\n",
    "# Load the model\n",
    "print(f'Reading {INPUT_FILE}...')\n",
    "mesh = pv.read(INPUT_FILE)\n",
    "print(f'DONE! Starting loop...')"
   ]
  },
  {
   "cell_type": "code",
   "execution_count": 7,
   "id": "b272191b",
   "metadata": {},
   "outputs": [],
   "source": [
    "#Check the object view\n",
    "plotter = pv.Plotter(off_screen=True)\n",
    "plotter.background_color = 'white'  # Set a white background color\n",
    "\n",
    "# Render the scene\n",
    "plotter.add_mesh(mesh, show_edges=False, specular=1)  # Set color and specular properties\n",
    "# Set the viewing angle in another plane\n",
    "plotter.camera_position = 'xy'\n",
    "plotter.camera.azimuth = 120\n",
    "    \n",
    "#plotter.show(auto_close=False)\n",
    "plotter.screenshot('test.png')\n",
    "    \n",
    "# Close the plotter\n",
    "plotter.close()"
   ]
  },
  {
   "cell_type": "code",
   "execution_count": 15,
   "id": "505e8ef8",
   "metadata": {},
   "outputs": [],
   "source": [
    "# Loop through different viewing angles and save the rendered images\n",
    "for azim_angle in range(0, 360, 15):\n",
    "    for elev_angle in range(-30, 50, 10):  \n",
    "        \n",
    "        #'Roll' to emulate not ideal alligned pictures\n",
    "        for roll_angle in range(-20, 30, 10):\n",
    "            \n",
    "            # Set up a plotter for rendering\n",
    "            plotter = pv.Plotter(off_screen=True)\n",
    "            plotter.background_color = 'white'  # Set a white background color\n",
    "\n",
    "            # Render the scene\n",
    "            #plotter.add_mesh(mesh, show_edges=False, color='gray', specular=1.0)  # Set color and specular properties\n",
    "\n",
    "            # Check if the mesh has color data\n",
    "            if 'colors' in mesh.point_data:\n",
    "                # Use the existing colors\n",
    "                plotter.add_mesh(mesh, show_edges=False, specular=1)\n",
    "            else:\n",
    "                # Apply a default color if no colors data\n",
    "                plotter.add_mesh(mesh, color='gray', show_edges=False, specular=1)\n",
    "\n",
    "            # Set the viewing angle\n",
    "            plotter.camera_position = 'xy'\n",
    "            plotter.camera.azimuth += azim_angle\n",
    "            plotter.camera.elevation += elev_angle\n",
    "            plotter.camera.roll += roll_angle\n",
    "            #print(angle)\n",
    "\n",
    "            #DISABLED OUTPUT PREVIEW\n",
    "            #plotter.show(auto_close=False)\n",
    "\n",
    "            # Save the rendered image\n",
    "            filename = f'QFA_rot_a{azim_angle}_e{elev_angle}_r{roll_angle}.png'\n",
    "            output_file = os.path.join(OUTPUT_DIR, filename)\n",
    "            plotter.screenshot(output_file)\n",
    "                \n",
    "            # Close the plotter\n",
    "            plotter.close()"
   ]
  },
  {
   "cell_type": "markdown",
   "id": "f6f6f89a",
   "metadata": {},
   "source": [
    "#### 2.4 AL-1119-9432 - SD"
   ]
  },
  {
   "cell_type": "code",
   "execution_count": 22,
   "id": "35211948",
   "metadata": {},
   "outputs": [
    {
     "name": "stdout",
     "output_type": "stream",
     "text": [
      "Reading data/STL/al-1119-9432_ASD.stl...\n",
      "DONE! Starting loop...\n"
     ]
    }
   ],
   "source": [
    "# Define work folders\n",
    "INPUT_FILE = 'data/STL/al-1119-9432_ASD.stl'\n",
    "OUTPUT_DIR = 'data/CAD_pics'\n",
    "\n",
    "# Load the model\n",
    "print(f'Reading {INPUT_FILE}...')\n",
    "mesh = pv.read(INPUT_FILE)\n",
    "print(f'DONE! Starting loop...')"
   ]
  },
  {
   "cell_type": "code",
   "execution_count": 23,
   "id": "9ae2f318",
   "metadata": {},
   "outputs": [],
   "source": [
    "#Check the object view\n",
    "plotter = pv.Plotter(off_screen=True)\n",
    "plotter.background_color = 'white'  # Set a white background color\n",
    "\n",
    "# Render the scene\n",
    "plotter.add_mesh(mesh, show_edges=False, specular=1)  # Set color and specular properties\n",
    "# Set the viewing angle in another plane\n",
    "plotter.camera_position = 'xy'\n",
    "plotter.camera.azimuth = 120\n",
    "    \n",
    "#plotter.show(auto_close=False)\n",
    "plotter.screenshot('test.png')\n",
    "    \n",
    "# Close the plotter\n",
    "plotter.close()"
   ]
  },
  {
   "cell_type": "code",
   "execution_count": 24,
   "id": "5d00f71c",
   "metadata": {},
   "outputs": [],
   "source": [
    "# Loop through different viewing angles and save the rendered images\n",
    "for azim_angle in range(0, 360, 15):\n",
    "    for elev_angle in range(-30, 50, 10):  \n",
    "        \n",
    "        #'Roll' to emulate not ideal alligned pictures\n",
    "        for roll_angle in range(-20, 30, 10):\n",
    "            \n",
    "            # Set up a plotter for rendering\n",
    "            plotter = pv.Plotter(off_screen=True)\n",
    "            plotter.background_color = 'white'  # Set a white background color\n",
    "\n",
    "            # Render the scene\n",
    "            #plotter.add_mesh(mesh, show_edges=False, color='gray', specular=1.0)  # Set color and specular properties\n",
    "\n",
    "            # Check if the mesh has color data\n",
    "            if 'colors' in mesh.point_data:\n",
    "                # Use the existing colors\n",
    "                plotter.add_mesh(mesh, show_edges=False, specular=1)\n",
    "            else:\n",
    "                # Apply a default color if no colors data\n",
    "                plotter.add_mesh(mesh, color='gray', show_edges=False, specular=1)\n",
    "\n",
    "            # Set the viewing angle\n",
    "            plotter.camera_position = 'xy'\n",
    "            plotter.camera.azimuth += azim_angle\n",
    "            plotter.camera.elevation += elev_angle\n",
    "            plotter.camera.roll += roll_angle\n",
    "            #print(angle)\n",
    "\n",
    "            #DISABLED OUTPUT PREVIEW\n",
    "            #plotter.show(auto_close=False)\n",
    "\n",
    "            # Save the rendered image\n",
    "            filename = f'SD_rot_a{azim_angle}_e{elev_angle}_r{roll_angle}.png'\n",
    "            output_file = os.path.join(OUTPUT_DIR, filename)\n",
    "            plotter.screenshot(output_file)\n",
    "                \n",
    "            # Close the plotter\n",
    "            plotter.close()"
   ]
  },
  {
   "cell_type": "markdown",
   "id": "f1fe1a0e",
   "metadata": {},
   "source": [
    "#### 2.5 AL-1154-3320 - SHD"
   ]
  },
  {
   "cell_type": "code",
   "execution_count": 25,
   "id": "6af1adab",
   "metadata": {},
   "outputs": [
    {
     "name": "stdout",
     "output_type": "stream",
     "text": [
      "Reading data/STL/al-1154-3320_ASHD.stl...\n",
      "DONE! Starting loop...\n"
     ]
    }
   ],
   "source": [
    "# Define work folders\n",
    "INPUT_FILE = 'data/STL/al-1154-3320_ASHD.stl'\n",
    "OUTPUT_DIR = 'data/CAD_pics'\n",
    "\n",
    "# Load the model\n",
    "print(f'Reading {INPUT_FILE}...')\n",
    "mesh = pv.read(INPUT_FILE)\n",
    "print(f'DONE! Starting loop...')"
   ]
  },
  {
   "cell_type": "code",
   "execution_count": 26,
   "id": "22a10acd",
   "metadata": {},
   "outputs": [],
   "source": [
    "#Check the object view\n",
    "plotter = pv.Plotter(off_screen=True)\n",
    "plotter.background_color = 'white'  # Set a white background color\n",
    "\n",
    "# Render the scene\n",
    "plotter.add_mesh(mesh, show_edges=False, specular=1)  # Set color and specular properties\n",
    "# Set the viewing angle in another plane\n",
    "plotter.camera_position = 'xy'\n",
    "plotter.camera.azimuth = 120\n",
    "    \n",
    "#plotter.show(auto_close=False)\n",
    "plotter.screenshot('test.png')\n",
    "    \n",
    "# Close the plotter\n",
    "plotter.close()"
   ]
  },
  {
   "cell_type": "code",
   "execution_count": 28,
   "id": "2fcd29cd",
   "metadata": {},
   "outputs": [],
   "source": [
    "# Loop through different viewing angles and save the rendered images\n",
    "for azim_angle in range(0, 360, 15):\n",
    "    for elev_angle in range(-30, 50, 10):  \n",
    "        \n",
    "        #'Roll' to emulate not ideal alligned pictures\n",
    "        for roll_angle in range(-20, 30, 10):\n",
    "            \n",
    "            # Set up a plotter for rendering\n",
    "            plotter = pv.Plotter(off_screen=True, window_size=(640, 640))\n",
    "            plotter.background_color = 'white'  # Set a white background color\n",
    "\n",
    "            # Render the scene\n",
    "            #plotter.add_mesh(mesh, show_edges=False, color='gray', specular=1.0)  # Set color and specular properties\n",
    "\n",
    "            # Check if the mesh has color data\n",
    "            if 'colors' in mesh.point_data:\n",
    "                # Use the existing colors\n",
    "                plotter.add_mesh(mesh, show_edges=False, specular=1)\n",
    "            else:\n",
    "                # Apply a default color if no colors data\n",
    "                plotter.add_mesh(mesh, color='gray', show_edges=False, specular=1)\n",
    "\n",
    "            # Set the viewing angle\n",
    "            plotter.camera_position = 'xy'\n",
    "            plotter.camera.azimuth += azim_angle\n",
    "            plotter.camera.elevation += elev_angle\n",
    "            plotter.camera.roll += roll_angle\n",
    "            #print(angle)\n",
    "\n",
    "            #DISABLED OUTPUT PREVIEW\n",
    "            #plotter.show(auto_close=False)\n",
    "\n",
    "            # Save the rendered image\n",
    "            filename = f'SHD_rot_a{azim_angle}_e{elev_angle}_r{roll_angle}.png'\n",
    "            output_file = os.path.join(OUTPUT_DIR, filename)\n",
    "            plotter.screenshot(output_file)\n",
    "                \n",
    "            # Close the plotter\n",
    "            plotter.close()"
   ]
  },
  {
   "cell_type": "markdown",
   "id": "aea60ecb",
   "metadata": {},
   "source": [
    "### 3. Creation of Labels\n",
    "After creating the collection of images, the final step to complete the dataset is generating a collection of labels. Labeling is typical in object detection; each label is a .txt file containing the class of the object and the coordinates of the area where it is located. Accurate labels ensure that the model learns to correctly identify objects, their locations, and their boundaries, directly impacting the model's performance and reliability in real-world applications. Mislabeling or inconsistent labeling can lead to poor model accuracy, making it less effective at detecting and categorizing objects correctly.\n",
    "\n",
    "In this particular case, I am following the standard format of YOLOv8, with the following class assignment:\n",
    "\n",
    "- QD = 0\n",
    "- QF = 1\n",
    "- QFA = 2\n",
    "- SD = 3\n",
    "- SHD = 4"
   ]
  },
  {
   "cell_type": "code",
   "execution_count": 31,
   "id": "82b5b991",
   "metadata": {},
   "outputs": [
    {
     "name": "stdout",
     "output_type": "stream",
     "text": [
      "Collecting opencv-python\n",
      "  Downloading opencv_python-4.10.0.84-cp37-abi3-win_amd64.whl (38.8 MB)\n",
      "     --------------------------------------- 38.8/38.8 MB 13.1 MB/s eta 0:00:00\n",
      "Requirement already satisfied: numpy>=1.21.2 in c:\\users\\amorato\\appdata\\local\\anaconda3\\lib\\site-packages (from opencv-python) (1.23.5)\n",
      "Installing collected packages: opencv-python\n",
      "Successfully installed opencv-python-4.10.0.84\n"
     ]
    }
   ],
   "source": [
    "!pip install opencv-python"
   ]
  },
  {
   "cell_type": "code",
   "execution_count": 32,
   "id": "d31f7d2f",
   "metadata": {},
   "outputs": [],
   "source": [
    "import os\n",
    "import cv2\n",
    "import numpy as np\n",
    "from tqdm import tqdm"
   ]
  },
  {
   "cell_type": "code",
   "execution_count": 33,
   "id": "4f66a868",
   "metadata": {},
   "outputs": [],
   "source": [
    "def create_labels(image_path, label_path, current_category=0):\n",
    "    if not os.path.isfile(image_path):\n",
    "        print(f\"File not found: {image_path}\")\n",
    "        return\n",
    "    \n",
    "    frame = cv2.imread(image_path)\n",
    "    img_h, img_w, _ = frame.shape\n",
    "\n",
    "    # Convert to grayscale\n",
    "    gray = cv2.cvtColor(frame, cv2.COLOR_BGR2GRAY)\n",
    "\n",
    "    # Apply Gaussian blur to reduce noise\n",
    "    blurred = cv2.GaussianBlur(gray, (5, 5), 0)\n",
    "\n",
    "    # Apply adaptive thresholding\n",
    "    thresholded = cv2.adaptiveThreshold(blurred, 255, cv2.ADAPTIVE_THRESH_GAUSSIAN_C, \n",
    "                                        cv2.THRESH_BINARY_INV, 11, 2)\n",
    "\n",
    "    # Apply morphological operations to close small holes in the foreground\n",
    "    kernel = np.ones((5,5), np.uint8)\n",
    "    morphed = cv2.morphologyEx(thresholded, cv2.MORPH_CLOSE, kernel)\n",
    "\n",
    "    contours, _ = cv2.findContours(morphed, cv2.RETR_EXTERNAL, cv2.CHAIN_APPROX_SIMPLE)\n",
    "    if len(contours) == 0:\n",
    "        print(f\"No contours found in image: {image_path}\")\n",
    "        return\n",
    "\n",
    "    # Find the largest contour which should be the object\n",
    "    largest_contour = max(contours, key=cv2.contourArea)\n",
    "    x, y, w, h = cv2.boundingRect(largest_contour)\n",
    "    x_centre = x + (w / 2)\n",
    "    y_centre = y + (h / 2)\n",
    "    \n",
    "    # Normalization\n",
    "    X = x_centre / img_w\n",
    "    Y = y_centre / img_h\n",
    "    W = w / img_w\n",
    "    H = h / img_h\n",
    "\n",
    "    # Limiting up to fixed number of decimal places\n",
    "    X = format(X, '.6f')\n",
    "    Y = format(Y, '.6f')\n",
    "    W = format(W, '.6f')\n",
    "    H = format(H, '.6f')\n",
    "    \n",
    "    with open(label_path, \"w\") as file_object:\n",
    "        file_object.write(f\"{current_category} {X} {Y} {W} {H}\\n\")"
   ]
  },
  {
   "cell_type": "code",
   "execution_count": 34,
   "id": "682a8ae6",
   "metadata": {},
   "outputs": [],
   "source": [
    "# Dictionary with magnet types as keys and classes as values\n",
    "magnet_classes = {\n",
    "    'QD': 0,\n",
    "    'QF': 1,\n",
    "    'QFA': 2,\n",
    "    'SD': 3,\n",
    "    'SHD': 4,\n",
    "}"
   ]
  },
  {
   "cell_type": "code",
   "execution_count": 35,
   "id": "179c898a",
   "metadata": {},
   "outputs": [],
   "source": [
    "# Define work folders\n",
    "input_path = 'data/CAD_pics'\n",
    "output_path = 'data/labels'"
   ]
  },
  {
   "cell_type": "code",
   "execution_count": 36,
   "id": "0eed3fd0",
   "metadata": {},
   "outputs": [
    {
     "name": "stderr",
     "output_type": "stream",
     "text": [
      "100%|██████████| 4800/4800 [02:09<00:00, 37.10it/s]"
     ]
    },
    {
     "name": "stdout",
     "output_type": "stream",
     "text": [
      "Label generation complete.\n"
     ]
    },
    {
     "name": "stderr",
     "output_type": "stream",
     "text": [
      "\n"
     ]
    }
   ],
   "source": [
    "os.makedirs(output_path, exist_ok=True)\n",
    "\n",
    "# Process each image in the directory\n",
    "for filename in tqdm(os.listdir(input_path)):\n",
    "    if filename.endswith('.png'):\n",
    "        magnet_type = filename.split('_rot')[0]\n",
    "        magnet_class = magnet_classes.get(magnet_type, None)\n",
    "        if magnet_class is not None:\n",
    "            img_path = os.path.join(input_path, filename)\n",
    "            label_path = os.path.join(output_path, filename.replace('.png', '.txt'))\n",
    "            create_labels(img_path, label_path, magnet_class)\n",
    "        else:\n",
    "            print(f'Warning: Magnet type {magnet_type} not found in dictionary.')\n",
    "\n",
    "print('Label generation complete.')"
   ]
  }
 ],
 "metadata": {
  "kernelspec": {
   "display_name": "NERSC Python",
   "language": "python",
   "name": "python3"
  },
  "language_info": {
   "codemirror_mode": {
    "name": "ipython",
    "version": 3
   },
   "file_extension": ".py",
   "mimetype": "text/x-python",
   "name": "python",
   "nbconvert_exporter": "python",
   "pygments_lexer": "ipython3",
   "version": "3.11.7"
  }
 },
 "nbformat": 4,
 "nbformat_minor": 5
}
